{
 "metadata": {
  "name": "",
  "signature": "sha256:bbfd82b20ccb77fc00a5b69dcd8e585966132a8305b8c9d17ef90b46c896ee74"
 },
 "nbformat": 3,
 "nbformat_minor": 0,
 "worksheets": [
  {
   "cells": [
    {
     "cell_type": "code",
     "collapsed": false,
     "input": [
      "# This is to get rid of annoying logging\n",
      "import logging\n",
      "handler= logging.getLogger('pyurdme')\n",
      "handler.setLevel(logging.ERROR)\n",
      "\n",
      "import IPython.parallel\n",
      "rc = IPython.parallel.Client()\n",
      "rv = rc.load_balanced_view()\n",
      "\n",
      "from examples.mincde import mincde\n",
      "from pyurdme import pyurdme"
     ],
     "language": "python",
     "metadata": {},
     "outputs": [],
     "prompt_number": 2
    },
    {
     "cell_type": "code",
     "collapsed": false,
     "input": [
      "# Set up a parameter sweep by picking parameters at random in reasonable ranges\n",
      "\n",
      "# Generate an ensemble of number_of_trajectories for a given parameter set\n",
      "def run_parameter_set(parameters, number_of_trajecories):\n",
      "    import time\n",
      "    start = time.clock()\n",
      "    from pyurdme import pyurdme\n",
      "    from pyurdme.nsmsolver import NSMSolver\n",
      "    from examples.mincde import mincde\n",
      "    # Base model\n",
      "    model = mincde.mincde()\n",
      "    # Set parameter values\n",
      "    for p,val in parameters.items():\n",
      "        model.listOfParameters[p].setExpression(val) \n",
      "        \n",
      "    solver = NSMSolver(model)\n",
      "    results = solver.run_ensemble(number_of_trajecories)\n",
      "    \n",
      "    return [time.clock() - start, results]\n",
      "    \n",
      "# Build the parameter space using a Cartesian product    \n",
      "import itertools\n",
      "import numpy\n",
      "sigma_de = [0.6,0.7]\n",
      "sigma_dt = [0.9,0.1]\n",
      "\n",
      "options = {\"sigma_de\": sigma_de, \"sigma_dt\": sigma_dt }\n",
      "product = [x for x in apply(itertools.product, options.values())]\n",
      "parameters = [dict(zip(options.keys(), p)) for p in product]\n",
      "\n",
      "# Now, run pyurmde in parallel on the distributed nodes and wait for all jobs to finish. \n",
      "number_of_trajectories = 2\n",
      "import time\n",
      "start = time.clock()\n",
      "%time results = rv.map(run_parameter_set,parameters,[number_of_trajectories]*len(parameters)); results.wait();\n",
      "print [t for t, r in results.get()]\n",
      "print time.clock() - start\n",
      "%time results = rv.map(run_parameter_set,parameters,[number_of_trajectories]*len(parameters)); results.wait();\n",
      "print [t for t, r in results.get()]\n",
      "print time.clock() - start\n",
      "%time results = rv.map(run_parameter_set,parameters,[number_of_trajectories]*len(parameters)); results.wait();\n",
      "print [t for t, r in results.get()]\n",
      "print time.clock() - start\n",
      "%time results = rv.map(run_parameter_set,parameters,[number_of_trajectories]*len(parameters)); results.wait();\n",
      "print [t for t, r in results.get()]\n",
      "print time.clock() - start\n",
      "%time results = rv.map(run_parameter_set,parameters,[number_of_trajectories]*len(parameters)); results.wait();\n",
      "print [t for t, r in results.get()]\n",
      "print time.clock() - start"
     ],
     "language": "python",
     "metadata": {},
     "outputs": [
      {
       "output_type": "stream",
       "stream": "stdout",
       "text": [
        "CPU times: user 3min 55s, sys: 37 s, total: 4min 32s\n",
        "Wall time: 14min 4s\n",
        "[15.880000000000003, 15.979999999999997, 16.700000000000003, 11.27]\n",
        "272.19\n",
        "CPU times: user 3min 49s, sys: 41.2 s, total: 4min 30s"
       ]
      },
      {
       "output_type": "stream",
       "stream": "stdout",
       "text": [
        "\n",
        "Wall time: 14min\n",
        "[15.900000000000006, 16.229999999999997, 16.740000000000002, 11.420000000000002]\n",
        "543.04\n",
        "CPU times: user 3min 51s, sys: 39.7 s, total: 4min 31s"
       ]
      },
      {
       "output_type": "stream",
       "stream": "stdout",
       "text": [
        "\n",
        "Wall time: 13min 58s\n",
        "[15.88000000000001, 16.120000000000005, 16.72, 11.280000000000001]\n",
        "814.14\n",
        "CPU times: user 3min 46s, sys: 41.3 s, total: 4min 28s"
       ]
      },
      {
       "output_type": "stream",
       "stream": "stdout",
       "text": [
        "\n",
        "Wall time: 13min 51s\n",
        "[15.86, 16.129999999999995, 16.72, 11.39]\n",
        "1082.41\n",
        "CPU times: user 3min 51s, sys: 39.7 s, total: 4min 30s"
       ]
      },
      {
       "output_type": "stream",
       "stream": "stdout",
       "text": [
        "\n",
        "Wall time: 13min 58s\n",
        "[15.849999999999994, 16.019999999999996, 16.67, 11.459999999999994]\n",
        "1353.39\n"
       ]
      }
     ],
     "prompt_number": 6
    },
    {
     "cell_type": "code",
     "collapsed": false,
     "input": [
      "# Now, do some postprocessing of the above computed trajectories\n",
      "def transform_and_aggregate(results,transform):\n",
      "    \"\"\" \n",
      "        Apply the function transform to each result object in the list\n",
      "        results, and add the output together to compute the mean. A typiacal\n",
      "        use for this function is to compute ensemble means of some\n",
      "        function of the stochastic process X, E[transform(X)]. \n",
      "        \n",
      "        It is assumed that transform operates on the result object as single \n",
      "        input, and that it returns something that makes sense to add up, i.e.\n",
      "        if out1 = transform(result1); out2=transform(result2)\n",
      "        then  sumout = out1 + out2 makes sense.\n",
      "        \n",
      "    \"\"\"\n",
      "    for i,result in enumerate(results):\n",
      "        if i==0:\n",
      "            taa=transform(result)\n",
      "        else:\n",
      "            taa = taa+transform(result)\n",
      "            \n",
      "    return taa/len(results)\n",
      "\n",
      "def species_sum(result):\n",
      "    \"\"\" Compute the sum of the species over the entire spatial domain. \"\"\"\n",
      "\n",
      "    import numpy\n",
      "    U = result[\"U\"]\n",
      "    model = result[\"model\"]\n",
      "    species_map = model.speciesMap()\n",
      "    species_means = {}\n",
      "    num_species = len(species_map)\n",
      "    \n",
      "    for spec_name, spec_ind in species_map.items():\n",
      "        species_means[spec_name] = numpy.sum(U[spec_ind::num_species,:],axis=0) \n",
      "\n",
      "    return species_means\n",
      "\n",
      "def pairwise_spatial_correlation(result):\n",
      "    \"\"\" Pairwise correlation between MinD_m and MinDE \"\"\"\n",
      "    import numpy\n",
      "    U = result[\"U\"]\n",
      "    tspan = result[\"tspan\"]\n",
      "    model = result[\"model\"]\n",
      "    ns = len(model.listOfSpecies)\n",
      "    species_map = model.speciesMap()\n",
      "    MinD_m = U[species_map[\"MinD_m\"]::ns,:]\n",
      "    MinDE = U[species_map[\"MinDE\"]::ns,:]\n",
      "    nvox,nt = numpy.shape(MinD_m)\n",
      "    corr = []\n",
      "    for i in range(nvox):\n",
      "        corr.append(numpy.correlate(MinD_m[i,:],MinDE[i,:])[0])\n",
      "    return numpy.sum(corr)\n",
      "\n",
      "    \n",
      "pairwise_corr = rv.map(transform_and_aggregate,results,[pairwise_spatial_correlation]*len(results))\n",
      "for c in pairwise_corr:\n",
      "    print c  \n",
      "\n",
      "# Cluster \n",
      "pw_local=pairwise_corr.get()\n",
      "from scipy.cluster.vq import kmeans2 \n",
      "cent,idx = kmeans2(numpy.array(pw_local),2)\n",
      "print cent,idx\n"
     ],
     "language": "python",
     "metadata": {},
     "outputs": [
      {
       "output_type": "stream",
       "stream": "stdout",
       "text": [
        "171629\n",
        "167491\n",
        "200936\n",
        "205748"
       ]
      },
      {
       "output_type": "stream",
       "stream": "stdout",
       "text": [
        "\n",
        "[ 203342.  169560.]"
       ]
      },
      {
       "output_type": "stream",
       "stream": "stdout",
       "text": [
        " [1 1 0 0]\n"
       ]
      }
     ],
     "prompt_number": 4
    },
    {
     "cell_type": "code",
     "collapsed": false,
     "input": [],
     "language": "python",
     "metadata": {},
     "outputs": [],
     "prompt_number": 4
    }
   ],
   "metadata": {}
  }
 ]
}